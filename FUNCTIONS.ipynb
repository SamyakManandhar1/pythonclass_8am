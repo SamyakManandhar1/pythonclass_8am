{
 "cells": [
  {
   "cell_type": "code",
   "execution_count": 1,
   "id": "5b7818aa",
   "metadata": {},
   "outputs": [],
   "source": [
    "#recursive funtion\n",
    "#funtion that calls itself"
   ]
  },
  {
   "cell_type": "code",
   "execution_count": 2,
   "id": "8bc9d4ad",
   "metadata": {},
   "outputs": [
    {
     "name": "stdout",
     "output_type": "stream",
     "text": [
      "hello world\n",
      "enter y for more printy\n",
      "hello world\n",
      "enter y for more printh\n"
     ]
    }
   ],
   "source": [
    "def hello():\n",
    "    print(\"hello world\")\n",
    "    x= input(\"enter y for more print\")\n",
    "    if x == 'y':\n",
    "        hello()\n",
    "hello()"
   ]
  },
  {
   "cell_type": "code",
   "execution_count": null,
   "id": "0e1354bd",
   "metadata": {},
   "outputs": [],
   "source": [
    "bill = []\n",
    "def billing_system():\n",
    "    global bill\n",
    "    name = input(\"enter name \")\n",
    "    price = int(input(\"enter price \"))\n",
    "    qty = "
   ]
  },
  {
   "cell_type": "code",
   "execution_count": 4,
   "id": "1fcb3ccb",
   "metadata": {},
   "outputs": [],
   "source": [
    "#lambda function\n",
    "#   x = lambda <argument>:<operations>"
   ]
  },
  {
   "cell_type": "code",
   "execution_count": 6,
   "id": "a7b6f558",
   "metadata": {},
   "outputs": [
    {
     "name": "stdout",
     "output_type": "stream",
     "text": [
      "8\n"
     ]
    }
   ],
   "source": [
    "x = lambda a:a**3\n",
    "print(x(2))"
   ]
  },
  {
   "cell_type": "code",
   "execution_count": 7,
   "id": "3063eaac",
   "metadata": {},
   "outputs": [
    {
     "data": {
      "text/plain": [
       "24"
      ]
     },
     "execution_count": 7,
     "metadata": {},
     "output_type": "execute_result"
    }
   ],
   "source": [
    "a = lambda x,y,z:x*y*z\n",
    "a(2,3,4)"
   ]
  },
  {
   "cell_type": "code",
   "execution_count": 8,
   "id": "88c3f890",
   "metadata": {},
   "outputs": [],
   "source": [
    "#filter() map()"
   ]
  },
  {
   "cell_type": "code",
   "execution_count": 9,
   "id": "4dba26cd",
   "metadata": {},
   "outputs": [
    {
     "name": "stdout",
     "output_type": "stream",
     "text": [
      "[2, 4, 6, 8, 10]\n"
     ]
    }
   ],
   "source": [
    "a = [1,2,3,4,5,6,7,8,9,10]\n",
    "x = list(filter(lambda u:u%2==0,a))\n",
    "print(x)"
   ]
  },
  {
   "cell_type": "code",
   "execution_count": 10,
   "id": "69adfc32",
   "metadata": {},
   "outputs": [
    {
     "data": {
      "text/plain": [
       "[1, 2, 3, 4, 5, 6, 7, 8, 9, 10]"
      ]
     },
     "execution_count": 10,
     "metadata": {},
     "output_type": "execute_result"
    }
   ],
   "source": [
    "a = {\"apple\",\"ball\",\"cat\",\"Dog\",\"Fish\"}\n",
    "x = lambda"
   ]
  },
  {
   "cell_type": "code",
   "execution_count": 11,
   "id": "8fbdc171",
   "metadata": {},
   "outputs": [],
   "source": [
    "#map()"
   ]
  },
  {
   "cell_type": "code",
   "execution_count": 17,
   "id": "dc6c51e4",
   "metadata": {},
   "outputs": [],
   "source": [
    "a = [1,2,3,4,5,6,7,8,9,10]\n",
    "x = list(map(lambda y:y**2,a))"
   ]
  },
  {
   "cell_type": "code",
   "execution_count": 18,
   "id": "0259ec84",
   "metadata": {},
   "outputs": [
    {
     "name": "stdout",
     "output_type": "stream",
     "text": [
      "[1, 4, 9, 16, 25, 36, 49, 64, 81, 100]\n"
     ]
    }
   ],
   "source": [
    "print(x)"
   ]
  },
  {
   "cell_type": "code",
   "execution_count": 21,
   "id": "8f990b27",
   "metadata": {},
   "outputs": [
    {
     "name": "stdout",
     "output_type": "stream",
     "text": [
      "['apple', 'ball', 'cat', 'dog', 'rachana']\n"
     ]
    }
   ],
   "source": [
    "a = [\"APPLE\",\"BALL\",\"CAT\",\"DOG\",\"RACHANA\"]\n",
    "x = list(map(lambda y:y.lower(),a))\n",
    "print(x)"
   ]
  },
  {
   "cell_type": "code",
   "execution_count": null,
   "id": "ac000633",
   "metadata": {},
   "outputs": [],
   "source": []
  }
 ],
 "metadata": {
  "kernelspec": {
   "display_name": "Python 3 (ipykernel)",
   "language": "python",
   "name": "python3"
  },
  "language_info": {
   "codemirror_mode": {
    "name": "ipython",
    "version": 3
   },
   "file_extension": ".py",
   "mimetype": "text/x-python",
   "name": "python",
   "nbconvert_exporter": "python",
   "pygments_lexer": "ipython3",
   "version": "3.9.7"
  }
 },
 "nbformat": 4,
 "nbformat_minor": 5
}
