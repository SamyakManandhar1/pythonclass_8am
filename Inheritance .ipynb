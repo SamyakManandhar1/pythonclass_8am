{
 "cells": [
  {
   "cell_type": "code",
   "execution_count": null,
   "id": "06d73183",
   "metadata": {},
   "outputs": [],
   "source": [
    "class A:\n",
    "    def __init__(self):\n",
    "        self.name = \"ram\"\n",
    "        self.age = 78\n",
    "        self.add = \"kathmandu\"\n",
    "class B(A):\n",
    "    def info(self):\n",
    "        print(f)\n"
   ]
  },
  {
   "cell_type": "code",
   "execution_count": 12,
   "id": "395ad4a0",
   "metadata": {},
   "outputs": [
    {
     "name": "stdout",
     "output_type": "stream",
     "text": [
      "hello my namr is sam, age is 34 and address is kathmadu\n"
     ]
    }
   ],
   "source": [
    "class A:\n",
    "    def __init__(self):\n",
    "        self.name = \"sam\"\n",
    "class B(A):\n",
    "    def __init__(self):\n",
    "        self.age = 34\n",
    "        A.__init__(self)\n",
    "class C(B):\n",
    "    def __init__(self):\n",
    "        self.add = \"kathmadu\"\n",
    "        B.__init__(self)\n",
    "    \n",
    "    def info(self):\n",
    "        print(f\"hello my namr is {self.name}, age is {self.age} and address is {self.add}\")\n",
    "        \n",
    "obj = C()\n",
    "obj.info()"
   ]
  },
  {
   "cell_type": "code",
   "execution_count": 10,
   "id": "c9973e1c",
   "metadata": {},
   "outputs": [
    {
     "name": "stdout",
     "output_type": "stream",
     "text": [
      "Ram 34 Ktm\n"
     ]
    }
   ],
   "source": [
    "class A:\n",
    "    def __init__(self):\n",
    "        self.name=\"Ram\"\n",
    "class B(A):\n",
    "    def __init__(self):\n",
    "        self.age=34\n",
    "        A.__init__(self)\n",
    "class c(B):\n",
    "    def __init__(self):\n",
    "        self.add=\"Ktm\"\n",
    "        B.__init__(self)\n",
    "\n",
    "    \n",
    "    def info(self):\n",
    "        print(f\"{self.name} {self.age} {self.add}\")\n",
    "        \n",
    "obj=c()\n",
    "obj.info()\n"
   ]
  },
  {
   "cell_type": "code",
   "execution_count": 3,
   "id": "3c0a492b",
   "metadata": {},
   "outputs": [
    {
     "name": "stdout",
     "output_type": "stream",
     "text": [
      "ram 45 kathmandu\n"
     ]
    }
   ],
   "source": [
    "#public members\n",
    "class Info:\n",
    "    def __init__(self):\n",
    "        self.name = \"ram\"\n",
    "        self.age = 45\n",
    "        self.add = \"kathmandu\"\n",
    "        \n",
    "obj = Info()\n",
    "print(obj.name,obj.age,obj.add)"
   ]
  },
  {
   "cell_type": "code",
   "execution_count": 5,
   "id": "783f3a8c",
   "metadata": {},
   "outputs": [
    {
     "name": "stdout",
     "output_type": "stream",
     "text": [
      "ram 45 kathmandu\n"
     ]
    }
   ],
   "source": [
    "#protected members\n",
    "class Info:\n",
    "    def __init__(self):\n",
    "        self._name = \"ram\"\n",
    "        self._age = 45\n",
    "        self._add = \"kathmandu\"\n",
    "        \n",
    "obj = Info()\n",
    "print(obj._name,obj._age,obj._add)"
   ]
  },
  {
   "cell_type": "code",
   "execution_count": 6,
   "id": "ed3618bf",
   "metadata": {},
   "outputs": [
    {
     "ename": "AttributeError",
     "evalue": "'Info' object has no attribute '__name'",
     "output_type": "error",
     "traceback": [
      "\u001b[1;31m---------------------------------------------------------------------------\u001b[0m",
      "\u001b[1;31mAttributeError\u001b[0m                            Traceback (most recent call last)",
      "\u001b[1;32m~\\AppData\\Local\\Temp/ipykernel_14260/4058428952.py\u001b[0m in \u001b[0;36m<module>\u001b[1;34m\u001b[0m\n\u001b[0;32m      7\u001b[0m \u001b[1;33m\u001b[0m\u001b[0m\n\u001b[0;32m      8\u001b[0m \u001b[0mobj\u001b[0m \u001b[1;33m=\u001b[0m \u001b[0mInfo\u001b[0m\u001b[1;33m(\u001b[0m\u001b[1;33m)\u001b[0m\u001b[1;33m\u001b[0m\u001b[1;33m\u001b[0m\u001b[0m\n\u001b[1;32m----> 9\u001b[1;33m \u001b[0mprint\u001b[0m\u001b[1;33m(\u001b[0m\u001b[0mobj\u001b[0m\u001b[1;33m.\u001b[0m\u001b[0m__name\u001b[0m\u001b[1;33m,\u001b[0m\u001b[0mobj\u001b[0m\u001b[1;33m.\u001b[0m\u001b[0m__age\u001b[0m\u001b[1;33m,\u001b[0m\u001b[0mobj\u001b[0m\u001b[1;33m.\u001b[0m\u001b[0m__add\u001b[0m\u001b[1;33m)\u001b[0m\u001b[1;33m\u001b[0m\u001b[1;33m\u001b[0m\u001b[0m\n\u001b[0m",
      "\u001b[1;31mAttributeError\u001b[0m: 'Info' object has no attribute '__name'"
     ]
    }
   ],
   "source": [
    "#private members\n",
    "class Info:\n",
    "    def __init__(self):\n",
    "        self.__name = \"ram\"\n",
    "        self.__age = 45\n",
    "        self.__add = \"kathmandu\"\n",
    "        \n",
    "obj = Info()\n",
    "print(obj.__name,obj.__age,obj.__add)"
   ]
  },
  {
   "cell_type": "code",
   "execution_count": 9,
   "id": "91edcc1f",
   "metadata": {},
   "outputs": [
    {
     "name": "stdout",
     "output_type": "stream",
     "text": [
      "this is init method 1000\n",
      "this is init method 2000\n",
      "this is init method 3000\n",
      "this is add 3000\n",
      "this is init method 3000\n",
      "this is add 6000\n",
      "this is init method 6000\n",
      "this is str method 6000\n",
      "6000\n"
     ]
    }
   ],
   "source": [
    "class Point:\n",
    "    def __init__(self,x=0):\n",
    "        self.x = x\n",
    "        print(\"this is init method\",self.x)\n",
    "    \n",
    "    def __str__(self):\n",
    "        print(\"this is str method\",self.x)\n",
    "        return f\"{self.x}\"\n",
    "    \n",
    "    def __add__(self,other):\n",
    "        x = self.x + other.x\n",
    "        print(\"this is add\",x)\n",
    "        return Point(x)\n",
    "\n",
    "p1 = Point(1000)\n",
    "p2 = Point(2000)\n",
    "p3 = Point(3000)\n",
    "print(p1+p2+p3)\n"
   ]
  },
  {
   "cell_type": "code",
   "execution_count": null,
   "id": "acae3409",
   "metadata": {},
   "outputs": [],
   "source": []
  }
 ],
 "metadata": {
  "kernelspec": {
   "display_name": "Python 3 (ipykernel)",
   "language": "python",
   "name": "python3"
  },
  "language_info": {
   "codemirror_mode": {
    "name": "ipython",
    "version": 3
   },
   "file_extension": ".py",
   "mimetype": "text/x-python",
   "name": "python",
   "nbconvert_exporter": "python",
   "pygments_lexer": "ipython3",
   "version": "3.9.7"
  }
 },
 "nbformat": 4,
 "nbformat_minor": 5
}
