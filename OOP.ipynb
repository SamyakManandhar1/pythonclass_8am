{
 "cells": [
  {
   "cell_type": "code",
   "execution_count": 1,
   "id": "a39efea5",
   "metadata": {},
   "outputs": [],
   "source": [
    "class Hello:\n",
    "    def hello():\n",
    "        print(\"hello world\")\n",
    "        \n",
    "obj = Hello()"
   ]
  },
  {
   "cell_type": "code",
   "execution_count": 2,
   "id": "032f50bc",
   "metadata": {},
   "outputs": [
    {
     "name": "stdout",
     "output_type": "stream",
     "text": [
      "100\n"
     ]
    }
   ],
   "source": [
    "class Cal:\n",
    "    @staticmethod\n",
    "    def area(l,b):\n",
    "        print(l*b)\n",
    "obj = Cal()\n",
    "obj.area(10,10)"
   ]
  },
  {
   "cell_type": "code",
   "execution_count": 3,
   "id": "7b7f0138",
   "metadata": {},
   "outputs": [
    {
     "name": "stdout",
     "output_type": "stream",
     "text": [
      "hello i am sss. i am from KTN. ia dm from 27\n",
      "hello i am Ram. i am from kathmadnu. ia dm from 45\n"
     ]
    }
   ],
   "source": [
    "class Info:\n",
    "    def __init__(self,name,age,add):\n",
    "        self.name =name\n",
    "        self.age=age\n",
    "        self.add =add\n",
    "        \n",
    "    def info(self):\n",
    "        return(f\"hello i am {self.name}. i am from {self.add}. ia dm from {self.age}\")\n",
    "obj1 = Info(\"Ram\",45,\"kathmadnu\")\n",
    "obj = Info(\"sss\",27,\"KTN\")\n",
    "\n",
    "print(obj.info())\n",
    "print(obj1.info())"
   ]
  },
  {
   "cell_type": "code",
   "execution_count": null,
   "id": "05a3d387",
   "metadata": {},
   "outputs": [],
   "source": []
  }
 ],
 "metadata": {
  "kernelspec": {
   "display_name": "Python 3 (ipykernel)",
   "language": "python",
   "name": "python3"
  },
  "language_info": {
   "codemirror_mode": {
    "name": "ipython",
    "version": 3
   },
   "file_extension": ".py",
   "mimetype": "text/x-python",
   "name": "python",
   "nbconvert_exporter": "python",
   "pygments_lexer": "ipython3",
   "version": "3.9.7"
  }
 },
 "nbformat": 4,
 "nbformat_minor": 5
}
