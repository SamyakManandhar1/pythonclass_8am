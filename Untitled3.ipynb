{
 "cells": [
  {
   "cell_type": "code",
   "execution_count": 3,
   "id": "9b57a085",
   "metadata": {},
   "outputs": [
    {
     "name": "stdout",
     "output_type": "stream",
     "text": [
      "hello samyak\n"
     ]
    }
   ],
   "source": [
    "def hello():\n",
    "    print(\"hello samyak\")\n",
    "hello()"
   ]
  },
  {
   "cell_type": "code",
   "execution_count": 4,
   "id": "26a825a1",
   "metadata": {},
   "outputs": [
    {
     "name": "stdout",
     "output_type": "stream",
     "text": [
      "enter the lenght of the box5\n",
      "enter the height5\n",
      "enter the breadth5\n",
      "25\n",
      "125\n"
     ]
    }
   ],
   "source": [
    "def cal():\n",
    "    l = int(input(\"enter the lenght of the box\"))\n",
    "    h=int(input(\"enter the height\"))\n",
    "    b=int(input(\"enter the breadth\"))\n",
    "    a = l * b\n",
    "    v =l * b * h\n",
    "    print(a)\n",
    "    print(v)\n",
    "cal()"
   ]
  },
  {
   "cell_type": "code",
   "execution_count": 7,
   "id": "d16299ff",
   "metadata": {},
   "outputs": [
    {
     "name": "stdout",
     "output_type": "stream",
     "text": [
      "enter the lenght of the box4\n",
      "enter the height5\n",
      "enter the breadth6\n",
      "24\n",
      "120\n"
     ]
    }
   ],
   "source": [
    "l = int(input(\"enter the lenght of the box\"))\n",
    "h=int(input(\"enter the height\"))\n",
    "b=int(input(\"enter the breadth\"))\n",
    "\n",
    "def area():\n",
    "    a = l * b\n",
    "    print(a)\n",
    "\n",
    "def vol():\n",
    "    v = l * b * h\n",
    "    print(v)\n",
    "\n",
    "area()\n",
    "vol()"
   ]
  },
  {
   "cell_type": "code",
   "execution_count": null,
   "id": "25717f4f",
   "metadata": {},
   "outputs": [],
   "source": [
    "\n",
    "#functions with arguments\n",
    "\n",
    "l = int(input(\"enter the lenght of the box\"))\n",
    "h=int(input(\"enter the height\"))\n",
    "b=int(input(\"enter the breadth\"))\n",
    "\n",
    "def cal(l,b,h):\n",
    "    a =l*b\n",
    "    v =l*b*h\n",
    "    print(a)\n",
    "    print(v)\n",
    "    \n",
    "cal(l,b,h)"
   ]
  },
  {
   "cell_type": "code",
   "execution_count": 1,
   "id": "0f80aacd",
   "metadata": {},
   "outputs": [
    {
     "name": "stdout",
     "output_type": "stream",
     "text": [
      "c\n",
      "r\n",
      "al\n",
      "ml\n",
      "python\n"
     ]
    }
   ],
   "source": [
    "def language(lan = \"python\"):\n",
    "    print(lan)\n",
    "    \n",
    "language(\"c\")\n",
    "language(\"r\")\n",
    "language(\"al\")\n",
    "language(\"ml\")\n",
    "language()"
   ]
  },
  {
   "cell_type": "code",
   "execution_count": 3,
   "id": "1aeeeb4f",
   "metadata": {},
   "outputs": [
    {
     "name": "stdout",
     "output_type": "stream",
     "text": [
      "hello world\n"
     ]
    }
   ],
   "source": [
    "def hell():\n",
    "    return\"hello world\"\n",
    "x = hell "
   ]
  },
  {
   "cell_type": "code",
   "execution_count": null,
   "id": "6822956f",
   "metadata": {},
   "outputs": [],
   "source": []
  }
 ],
 "metadata": {
  "kernelspec": {
   "display_name": "Python 3 (ipykernel)",
   "language": "python",
   "name": "python3"
  },
  "language_info": {
   "codemirror_mode": {
    "name": "ipython",
    "version": 3
   },
   "file_extension": ".py",
   "mimetype": "text/x-python",
   "name": "python",
   "nbconvert_exporter": "python",
   "pygments_lexer": "ipython3",
   "version": "3.9.7"
  }
 },
 "nbformat": 4,
 "nbformat_minor": 5
}
