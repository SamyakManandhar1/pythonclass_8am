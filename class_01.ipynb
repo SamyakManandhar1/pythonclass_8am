{
 "cells": [
  {
   "cell_type": "markdown",
   "id": "5cddba3e",
   "metadata": {},
   "source": [
    "# CLASS 01"
   ]
  },
  {
   "cell_type": "code",
   "execution_count": 1,
   "id": "32100b8c",
   "metadata": {},
   "outputs": [
    {
     "name": "stdout",
     "output_type": "stream",
     "text": [
      "10\n"
     ]
    }
   ],
   "source": [
    "a = 10\n",
    "print(a)"
   ]
  },
  {
   "cell_type": "code",
   "execution_count": 2,
   "id": "30aac526",
   "metadata": {},
   "outputs": [
    {
     "name": "stdout",
     "output_type": "stream",
     "text": [
      "1 1.55 hi samm False\n",
      "1\n",
      "1.55\n",
      "hi samm\n",
      "False\n",
      "<class 'int'>\n",
      "<class 'float'>\n",
      "<class 'str'>\n",
      "<class 'bool'>\n"
     ]
    }
   ],
   "source": [
    "a = 1\n",
    "b = 1.55\n",
    "c = \"hi samm\"\n",
    "d = False\n",
    "print(a,b,c,d)\n",
    "print(a)\n",
    "print(b)\n",
    "print(c)\n",
    "print(d)\n",
    "print(type(a))\n",
    "print(type(b))\n",
    "print(type(c))\n",
    "print(type(d))"
   ]
  },
  {
   "cell_type": "code",
   "execution_count": 3,
   "id": "1b099511",
   "metadata": {},
   "outputs": [
    {
     "name": "stdout",
     "output_type": "stream",
     "text": [
      "10101010101010101010\n"
     ]
    }
   ],
   "source": [
    "a = \"10\"\n",
    "b = 10\n",
    "c = a*b\n",
    "print(c)"
   ]
  },
  {
   "cell_type": "code",
   "execution_count": 4,
   "id": "8c4bdcdc",
   "metadata": {},
   "outputs": [
    {
     "name": "stdout",
     "output_type": "stream",
     "text": [
      "0.0\n"
     ]
    }
   ],
   "source": [
    "a = True\n",
    "b = False\n",
    "c= b/a\n",
    "print(c)"
   ]
  },
  {
   "cell_type": "markdown",
   "id": "f90be9a9",
   "metadata": {},
   "source": [
    "# CLASS 02"
   ]
  },
  {
   "cell_type": "code",
   "execution_count": 5,
   "id": "f3aab8d6",
   "metadata": {},
   "outputs": [
    {
     "name": "stdout",
     "output_type": "stream",
     "text": [
      "enter a number1\n",
      "enter another number1\n",
      "11\n"
     ]
    }
   ],
   "source": [
    "a = input(\"enter a number\") \n",
    "b = input(\"enter another number\")\n",
    "c = a + b\n",
    "print(c)"
   ]
  },
  {
   "cell_type": "code",
   "execution_count": 9,
   "id": "c76125bd",
   "metadata": {},
   "outputs": [
    {
     "name": "stdout",
     "output_type": "stream",
     "text": [
      "enter p = 100000\n",
      "enter t= 1\n",
      "enter r= 8.2\n",
      "8199.999999999998\n"
     ]
    }
   ],
   "source": [
    "p = int(input(\"enter p = \"))\n",
    "t = int(input(\"enter t= \"))\n",
    "r= float(input(\"enter r= \"))\n",
    "i = p*t*r/100\n",
    "print(i)\n"
   ]
  },
  {
   "cell_type": "code",
   "execution_count": 21,
   "id": "fe3584dd",
   "metadata": {},
   "outputs": [
    {
     "name": "stdout",
     "output_type": "stream",
     "text": [
      "enter your namesam\n",
      "enter your age23\n",
      "enter your addressswoyambhu\n",
      "Your name is sam\n",
      "your age is 23 \n",
      "your address is swoyambhu\n"
     ]
    }
   ],
   "source": [
    "name = input(\"enter your name\")\n",
    "age = int(input(\"enter your age\"))\n",
    "address = input(\"enter your address\")\n",
    "print(\"Your name is \"  + name + \"\\nyour age is \" + str(age) +  \" \\nyour address is \" + address)"
   ]
  },
  {
   "cell_type": "code",
   "execution_count": null,
   "id": "0a9b148b",
   "metadata": {},
   "outputs": [],
   "source": []
  }
 ],
 "metadata": {
  "kernelspec": {
   "display_name": "Python 3 (ipykernel)",
   "language": "python",
   "name": "python3"
  },
  "language_info": {
   "codemirror_mode": {
    "name": "ipython",
    "version": 3
   },
   "file_extension": ".py",
   "mimetype": "text/x-python",
   "name": "python",
   "nbconvert_exporter": "python",
   "pygments_lexer": "ipython3",
   "version": "3.9.7"
  }
 },
 "nbformat": 4,
 "nbformat_minor": 5
}
