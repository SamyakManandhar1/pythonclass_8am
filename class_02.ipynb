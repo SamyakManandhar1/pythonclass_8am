{
 "cells": [
  {
   "cell_type": "code",
   "execution_count": 3,
   "id": "bb393c3c",
   "metadata": {},
   "outputs": [
    {
     "name": "stdout",
     "output_type": "stream",
     "text": [
      "enter the search value ball\n",
      "yes\n",
      "1\n"
     ]
    }
   ],
   "source": [
    "c=0\n",
    "a= (\"apple\", \"cat\", \"ant\", \"x-ray\", \"ball\")\n",
    "search = input(\"enter the search value \")\n",
    "for i in range(len(a)):\n",
    "    if search.lower()== a[i].lower():\n",
    "        c=c+1\n",
    "        print(\"yes\")\n",
    "        print(a.count(search.lower()))"
   ]
  },
  {
   "cell_type": "code",
   "execution_count": 7,
   "id": "a299d427",
   "metadata": {},
   "outputs": [
    {
     "data": {
      "text/plain": [
       "23"
      ]
     },
     "execution_count": 7,
     "metadata": {},
     "output_type": "execute_result"
    }
   ],
   "source": [
    "list = [[\"ram\",45,\"kathmandu\"],\n",
    "       [\"sam\",23,\"yak\"]]\n",
    "list[1][1]"
   ]
  },
  {
   "cell_type": "code",
   "execution_count": 8,
   "id": "e59a514d",
   "metadata": {},
   "outputs": [
    {
     "name": "stdout",
     "output_type": "stream",
     "text": [
      "enter the value of n2\n",
      "name sam\n",
      "age 23\n",
      "address yak\n",
      "name alu\n",
      "age 90\n",
      "address pyaj\n",
      "[['sam', '23', 'yak'], ['alu', '90', 'pyaj']]\n"
     ]
    }
   ],
   "source": [
    "info = []\n",
    "n =int(input(\"enter the value of n\"))\n",
    "for i in range(n):\n",
    "    name = input(\"name \")\n",
    "    age = input(\"age \")\n",
    "    address = input(\"address \")\n",
    "    x = [name, age, address]\n",
    "    info.append(x)\n",
    "print(info)"
   ]
  },
  {
   "cell_type": "code",
   "execution_count": 9,
   "id": "fcdb5120",
   "metadata": {},
   "outputs": [
    {
     "data": {
      "text/plain": [
       "2"
      ]
     },
     "execution_count": 9,
     "metadata": {},
     "output_type": "execute_result"
    }
   ],
   "source": [
    "len(info)"
   ]
  },
  {
   "cell_type": "code",
   "execution_count": 10,
   "id": "87cdb095",
   "metadata": {},
   "outputs": [],
   "source": [
    "info =[[\"ram\",45,\"kathmandu\"],\n",
    "       [\"sam\",23,\"yak\"],\n",
    "       [\"raaam\",425,\"kssathmandu\"],\n",
    "       [\"sam\",23,\"yak\"]]"
   ]
  },
  {
   "cell_type": "code",
   "execution_count": 11,
   "id": "c9f5b7c1",
   "metadata": {},
   "outputs": [],
   "source": [
    "info.remove([\"sam\",23,\"yak\"])"
   ]
  },
  {
   "cell_type": "code",
   "execution_count": 12,
   "id": "c57cb3ff",
   "metadata": {},
   "outputs": [
    {
     "data": {
      "text/plain": [
       "[['ram', 45, 'kathmandu'], ['raaam', 425, 'kssathmandu'], ['sam', 23, 'yak']]"
      ]
     },
     "execution_count": 12,
     "metadata": {},
     "output_type": "execute_result"
    }
   ],
   "source": [
    "info"
   ]
  },
  {
   "cell_type": "markdown",
   "id": "1de3e299",
   "metadata": {},
   "source": [
    "okokok lalala"
   ]
  },
  {
   "cell_type": "code",
   "execution_count": 14,
   "id": "d4121e0e",
   "metadata": {},
   "outputs": [],
   "source": [
    "info =[[\"ram\",45,\"kathmandu\",6000],\n",
    "       [\"sam\",23,\"yak\",10000],\n",
    "       [\"raaam\",425,\"kssathmandu\",3000],\n",
    "       [\"sam\",23,\"yak\",4000]]"
   ]
  },
  {
   "cell_type": "code",
   "execution_count": 16,
   "id": "9e03df92",
   "metadata": {},
   "outputs": [
    {
     "data": {
      "text/plain": [
       "['sam', 23, 'yak']"
      ]
     },
     "execution_count": 16,
     "metadata": {},
     "output_type": "execute_result"
    }
   ],
   "source": [
    "for i in info:\n",
    "     info[i][3]"
   ]
  },
  {
   "cell_type": "code",
   "execution_count": null,
   "id": "cba2fde2",
   "metadata": {},
   "outputs": [],
   "source": []
  }
 ],
 "metadata": {
  "kernelspec": {
   "display_name": "Python 3 (ipykernel)",
   "language": "python",
   "name": "python3"
  },
  "language_info": {
   "codemirror_mode": {
    "name": "ipython",
    "version": 3
   },
   "file_extension": ".py",
   "mimetype": "text/x-python",
   "name": "python",
   "nbconvert_exporter": "python",
   "pygments_lexer": "ipython3",
   "version": "3.9.7"
  }
 },
 "nbformat": 4,
 "nbformat_minor": 5
}
