{
 "cells": [
  {
   "cell_type": "code",
   "execution_count": 7,
   "id": "f0328e4e",
   "metadata": {},
   "outputs": [],
   "source": [
    "import pandas as pd\n",
    "df1 = pd.DataFrame({\n",
    "    'name':['ram','shyam'],\n",
    "    'age':['10','20']\n",
    "})\n",
    "df2 = pd.DataFrame({\n",
    "    'name':['hari','gopal'],\n",
    "    'age':[55,65],\n",
    "})\n",
    "\n",
    "df = pd.concat([df1,df2])"
   ]
  },
  {
   "cell_type": "code",
   "execution_count": 8,
   "id": "1817c5c8",
   "metadata": {},
   "outputs": [
    {
     "data": {
      "text/html": [
       "<div>\n",
       "<style scoped>\n",
       "    .dataframe tbody tr th:only-of-type {\n",
       "        vertical-align: middle;\n",
       "    }\n",
       "\n",
       "    .dataframe tbody tr th {\n",
       "        vertical-align: top;\n",
       "    }\n",
       "\n",
       "    .dataframe thead th {\n",
       "        text-align: right;\n",
       "    }\n",
       "</style>\n",
       "<table border=\"1\" class=\"dataframe\">\n",
       "  <thead>\n",
       "    <tr style=\"text-align: right;\">\n",
       "      <th></th>\n",
       "      <th>name</th>\n",
       "      <th>age</th>\n",
       "    </tr>\n",
       "  </thead>\n",
       "  <tbody>\n",
       "    <tr>\n",
       "      <th>0</th>\n",
       "      <td>ram</td>\n",
       "      <td>10</td>\n",
       "    </tr>\n",
       "    <tr>\n",
       "      <th>1</th>\n",
       "      <td>shyam</td>\n",
       "      <td>20</td>\n",
       "    </tr>\n",
       "    <tr>\n",
       "      <th>0</th>\n",
       "      <td>hari</td>\n",
       "      <td>55</td>\n",
       "    </tr>\n",
       "    <tr>\n",
       "      <th>1</th>\n",
       "      <td>gopal</td>\n",
       "      <td>65</td>\n",
       "    </tr>\n",
       "  </tbody>\n",
       "</table>\n",
       "</div>"
      ],
      "text/plain": [
       "    name age\n",
       "0    ram  10\n",
       "1  shyam  20\n",
       "0   hari  55\n",
       "1  gopal  65"
      ]
     },
     "execution_count": 8,
     "metadata": {},
     "output_type": "execute_result"
    }
   ],
   "source": [
    "df"
   ]
  },
  {
   "cell_type": "code",
   "execution_count": 9,
   "id": "7b64e19d",
   "metadata": {},
   "outputs": [
    {
     "name": "stdout",
     "output_type": "stream",
     "text": [
      "Collecting mysql-connector\n",
      "  Downloading mysql-connector-2.2.9.tar.gz (11.9 MB)\n",
      "Building wheels for collected packages: mysql-connector\n",
      "  Building wheel for mysql-connector (setup.py): started\n",
      "  Building wheel for mysql-connector (setup.py): finished with status 'done'\n",
      "  Created wheel for mysql-connector: filename=mysql_connector-2.2.9-cp39-cp39-win_amd64.whl size=247961 sha256=964c7ceef65fe6ae6631124ac7d2f6be3afc62f256b04f0a4163078df6f5a490\n",
      "  Stored in directory: c:\\users\\user\\appdata\\local\\pip\\cache\\wheels\\7b\\14\\39\\5aad423666e827dfe9a1fbcd111ac17171e7c9865d570780ce\n",
      "Successfully built mysql-connector\n",
      "Installing collected packages: mysql-connector\n",
      "Successfully installed mysql-connector-2.2.9\n"
     ]
    }
   ],
   "source": [
    "!pip install mysql-connector"
   ]
  },
  {
   "cell_type": "code",
   "execution_count": 11,
   "id": "4a11a230",
   "metadata": {},
   "outputs": [
    {
     "name": "stdout",
     "output_type": "stream",
     "text": [
      "hi\n"
     ]
    }
   ],
   "source": [
    "print(\"hi\")"
   ]
  },
  {
   "cell_type": "code",
   "execution_count": 6,
   "id": "a67cd3cd",
   "metadata": {},
   "outputs": [],
   "source": [
    "import mysql.connector\n",
    "database = mysql.connector.connect(\n",
    "  host=\"localhost\",\n",
    "  user=\"root\",\n",
    "  password=\"\",\n",
    "  database=\"python_broadway\")\n",
    "\n",
    "db = database.cursor() "
   ]
  },
  {
   "cell_type": "code",
   "execution_count": null,
   "id": "9b252296",
   "metadata": {},
   "outputs": [],
   "source": []
  },
  {
   "cell_type": "code",
   "execution_count": 7,
   "id": "f2258cfd",
   "metadata": {},
   "outputs": [
    {
     "data": {
      "text/plain": [
       "[(1, 'Samyak', 89, 90, 50, 99, 99, 400, 75.2, 'A'),\n",
       " (2, 'manandhar', 50, 50, 50, 50, 50, 60, 52.0, 'D'),\n",
       " (3, 'manandhar', 50, 50, 50, 50, 50, 252, 52.0, 'D')]"
      ]
     },
     "execution_count": 7,
     "metadata": {},
     "output_type": "execute_result"
    }
   ],
   "source": [
    "db.execute(\"SELECT * FROM students\")\n",
    "result =db.fetchall()\n",
    "result"
   ]
  },
  {
   "cell_type": "code",
   "execution_count": 8,
   "id": "cf6e02d4",
   "metadata": {},
   "outputs": [
    {
     "data": {
      "text/plain": [
       "[('Samyak', 'A'), ('manandhar', 'D'), ('manandhar', 'D')]"
      ]
     },
     "execution_count": 8,
     "metadata": {},
     "output_type": "execute_result"
    }
   ],
   "source": [
    "db.execute(\"SELECT name,grade FROM students\")\n",
    "result1 = db.fetchall() \n",
    "result1"
   ]
  },
  {
   "cell_type": "code",
   "execution_count": 9,
   "id": "9c5106ef",
   "metadata": {},
   "outputs": [
    {
     "data": {
      "text/plain": [
       "[(1, 'Samyak', 89, 90, 50, 99, 99, 400, 75.2, 'A')]"
      ]
     },
     "execution_count": 9,
     "metadata": {},
     "output_type": "execute_result"
    }
   ],
   "source": [
    "db.execute(\"SELECT * FROM students where grade ='A'\")\n",
    "result2 = db.fetchall()\n",
    "result2"
   ]
  },
  {
   "cell_type": "code",
   "execution_count": 11,
   "id": "1a0ac88c",
   "metadata": {},
   "outputs": [],
   "source": [
    "sql = '''INSERT INTO `students` (`sn`, `name`, `physics`, `chemistry`, `maths`, `english`, `nepali`, `total`, `percentage`, `grade`) VALUES ('4', 'manandhar', '50', '50', '50', '50', '50', '60', '52', 'D');'''\n",
    "db.execute(sql)\n",
    "database.commit()"
   ]
  },
  {
   "cell_type": "code",
   "execution_count": 16,
   "id": "e9a2efe9",
   "metadata": {},
   "outputs": [
    {
     "name": "stdout",
     "output_type": "stream",
     "text": [
      "enter namesamyakkkkkkkkkkk\n",
      "enter marks in maths90\n",
      "enter marks in maths54\n",
      "enter marks in eng45\n",
      "enter marks in nep841\n",
      "enter marks in nep4\n",
      "total 1034\n",
      "per 206.8\n"
     ]
    }
   ],
   "source": [
    "name = input(\"enter name\")\n",
    "physics = int(input(\"enter marks in maths\"))\n",
    "chemistry = int(input(\"enter marks in maths\"))\n",
    "maths = int(input(\"enter marks in eng\"))\n",
    "english = int(input(\"enter marks in nep\"))\n",
    "nepali = int(input(\"enter marks in nep\"))\n",
    "total = maths + physics + chemistry +english + nepali\n",
    "percentage = total/5\n",
    "if percentage>=80:\n",
    "    grade = 'a' \n",
    "elif per>=60:\n",
    "    grade = 'b'\n",
    "elif per>=40:\n",
    "    grade = 'c'\n",
    "else:\n",
    "    grade = 'f'\n",
    "\n",
    "print(\"total\",total)\n",
    "print(\"per\",percentage)\n",
    "    \n",
    "sql = f\"INSERT INTO students (name,physics,chemistry,maths,english,nepali,total,percentage,grade) VALUES('{name}',{physics},{chemistry},{maths},{english},{nepali},{total},{percentage},'{grade}')\"\n",
    "db.execute(sql)\n",
    "database.commit()"
   ]
  },
  {
   "cell_type": "code",
   "execution_count": null,
   "id": "8b89385b",
   "metadata": {},
   "outputs": [],
   "source": []
  }
 ],
 "metadata": {
  "kernelspec": {
   "display_name": "Python 3 (ipykernel)",
   "language": "python",
   "name": "python3"
  },
  "language_info": {
   "codemirror_mode": {
    "name": "ipython",
    "version": 3
   },
   "file_extension": ".py",
   "mimetype": "text/x-python",
   "name": "python",
   "nbconvert_exporter": "python",
   "pygments_lexer": "ipython3",
   "version": "3.9.7"
  }
 },
 "nbformat": 4,
 "nbformat_minor": 5
}
