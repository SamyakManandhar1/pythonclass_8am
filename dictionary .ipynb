{
 "cells": [
  {
   "cell_type": "code",
   "execution_count": 1,
   "id": "f64ad8de",
   "metadata": {},
   "outputs": [],
   "source": [
    " d = { 'a':'apple', 'b':'ball', 'c':'cat' }"
   ]
  },
  {
   "cell_type": "code",
   "execution_count": 3,
   "id": "380eb922",
   "metadata": {},
   "outputs": [
    {
     "name": "stdout",
     "output_type": "stream",
     "text": [
      "apple\n"
     ]
    }
   ],
   "source": [
    "print(d['a'])"
   ]
  },
  {
   "cell_type": "code",
   "execution_count": 4,
   "id": "bef23d5b",
   "metadata": {},
   "outputs": [
    {
     "data": {
      "text/plain": [
       "3"
      ]
     },
     "execution_count": 4,
     "metadata": {},
     "output_type": "execute_result"
    }
   ],
   "source": [
    "len(d)"
   ]
  },
  {
   "cell_type": "code",
   "execution_count": 5,
   "id": "0990ce14",
   "metadata": {},
   "outputs": [
    {
     "name": "stdout",
     "output_type": "stream",
     "text": [
      "apple\n",
      "ball\n",
      "cat\n"
     ]
    }
   ],
   "source": [
    "for i in d.values():\n",
    "    print(i)"
   ]
  },
  {
   "cell_type": "code",
   "execution_count": 6,
   "id": "d97011ba",
   "metadata": {},
   "outputs": [
    {
     "name": "stdout",
     "output_type": "stream",
     "text": [
      "a\n",
      "b\n",
      "c\n"
     ]
    }
   ],
   "source": [
    "for i in d.keys():\n",
    "    print(i)"
   ]
  },
  {
   "cell_type": "code",
   "execution_count": 9,
   "id": "362fd71a",
   "metadata": {},
   "outputs": [
    {
     "name": "stdout",
     "output_type": "stream",
     "text": [
      "('a', 'apple') ('b', 'ball') ('c', 'cat') "
     ]
    }
   ],
   "source": [
    "for i in d.items():\n",
    "    print(i, end =\" \")"
   ]
  },
  {
   "cell_type": "code",
   "execution_count": 10,
   "id": "a517c611",
   "metadata": {},
   "outputs": [],
   "source": [
    "d = {}"
   ]
  },
  {
   "cell_type": "code",
   "execution_count": 12,
   "id": "740767a3",
   "metadata": {},
   "outputs": [
    {
     "data": {
      "text/plain": [
       "{'a': 'appstore'}"
      ]
     },
     "execution_count": 12,
     "metadata": {},
     "output_type": "execute_result"
    }
   ],
   "source": [
    "d['a'] = \"appstore\"\n",
    "d"
   ]
  },
  {
   "cell_type": "code",
   "execution_count": 17,
   "id": "752afe1b",
   "metadata": {},
   "outputs": [
    {
     "data": {
      "text/plain": [
       "{'s': 'appstssore'}"
      ]
     },
     "execution_count": 17,
     "metadata": {},
     "output_type": "execute_result"
    }
   ],
   "source": [
    "f={}\n",
    "f['s'] = \"appstssore\"\n",
    "f"
   ]
  },
  {
   "cell_type": "code",
   "execution_count": 18,
   "id": "83b9e4cd",
   "metadata": {},
   "outputs": [
    {
     "name": "stdout",
     "output_type": "stream",
     "text": [
      "{'b': 'ball', 'c': 'cat'}\n"
     ]
    }
   ],
   "source": [
    "d = { 'a':'apple', 'b':'ball', 'c':'cat' }\n",
    "del d['a']\n",
    "print(d)"
   ]
  },
  {
   "cell_type": "code",
   "execution_count": 19,
   "id": "00f01080",
   "metadata": {},
   "outputs": [],
   "source": [
    "d={}"
   ]
  },
  {
   "cell_type": "code",
   "execution_count": 20,
   "id": "7342ef8e",
   "metadata": {},
   "outputs": [
    {
     "name": "stdout",
     "output_type": "stream",
     "text": [
      "enter the value of n2\n",
      "enter name sam\n",
      "enter id 2050091\n",
      "enter name yak\n",
      "enter id 2050014\n",
      "{'2050091': 'sam', '2050014': 'yak'}\n"
     ]
    }
   ],
   "source": [
    "n = int(input(\"enter the value of n\"))\n",
    "for i in range(n):\n",
    "    name = input(\"enter name \")\n",
    "    u_id = input(\"enter id \")\n",
    "    d[u_id] = name\n",
    "    \n",
    "print(d)"
   ]
  },
  {
   "cell_type": "code",
   "execution_count": 23,
   "id": "229b3385",
   "metadata": {},
   "outputs": [
    {
     "name": "stdout",
     "output_type": "stream",
     "text": [
      "enter the value of n2\n",
      "enter name sam\n",
      "enter id 414\n",
      "enter college id546\n",
      "enter name y\n",
      "enter id 45\n",
      "enter college id456\n",
      "{'sam': ['414', '546'], 'y': ['45', '456']}\n"
     ]
    }
   ],
   "source": [
    "s={}\n",
    "n = int(input(\"enter the value of n\"))\n",
    "for i in range(n):\n",
    "    name = input(\"enter name \")\n",
    "    u_id = input(\"enter id \")\n",
    "    c_id = input(\"enter college id\")\n",
    "    s[name] = [u_id, c_id]\n",
    "    \n",
    "print(s)"
   ]
  },
  {
   "cell_type": "code",
   "execution_count": 27,
   "id": "e927b164",
   "metadata": {},
   "outputs": [
    {
     "name": "stdout",
     "output_type": "stream",
     "text": [
      "enter the value 1\n",
      "enter name hg\n",
      "enter ntc 5\n",
      "enter ncell 4\n",
      "{'name': ['hg'], 'ntc_phone': [5], 'ncell_phone': [4]}\n"
     ]
    }
   ],
   "source": [
    "d = {'name':[],\n",
    "    'ntc_phone':[],\n",
    "    'ncell_phone':[]}\n",
    "n = int(input(\"enter the value \"))\n",
    "for i in range(n):\n",
    "    name = input(\"enter name \")\n",
    "    ntc_phone = int(input(\"enter ntc \"))\n",
    "    ncell_phone = int(input(\"enter ncell \"))\n",
    "    d['name'].append(name)\n",
    "    d['ntc_phone'].append(ntc_phone)\n",
    "    d['ncell_phone'].append(ncell_phone)\n",
    "print(d)\n"
   ]
  },
  {
   "cell_type": "code",
   "execution_count": null,
   "id": "8a0627df",
   "metadata": {},
   "outputs": [],
   "source": []
  }
 ],
 "metadata": {
  "kernelspec": {
   "display_name": "Python 3 (ipykernel)",
   "language": "python",
   "name": "python3"
  },
  "language_info": {
   "codemirror_mode": {
    "name": "ipython",
    "version": 3
   },
   "file_extension": ".py",
   "mimetype": "text/x-python",
   "name": "python",
   "nbconvert_exporter": "python",
   "pygments_lexer": "ipython3",
   "version": "3.9.7"
  }
 },
 "nbformat": 4,
 "nbformat_minor": 5
}
